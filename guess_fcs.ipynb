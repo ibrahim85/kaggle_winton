{
 "cells": [
  {
   "cell_type": "markdown",
   "metadata": {},
   "source": [
    "# Gibbs Sampler\n",
    "\n",
    "1. Seeding:\n",
    "    * Get the sample distribution of each variable\n",
    "    * Draw randomly from this distribution to fill in the missing values\n",
    "2. In parallel:\n",
    "    * forecast one variable using all the others\n",
    "    --> recombine forecasts and compare similarity of new matrix to old\n",
    "    * forecasting can use any appropriate machine learning technique.\n",
    "      for example, SGD (to replace linear regression), or decision tree.\n",
    "3. Iterate 5-10 times"
   ]
  },
  {
   "cell_type": "code",
<<<<<<< HEAD
   "execution_count": 2,
   "metadata": {
    "collapsed": false
   },
   "outputs": [
    {
     "data": {
      "text/plain": [
       "'\\npool = mp.Pool(processes=N_FEATURES)\\nresults = pool.map(cube, range(1,7))\\nprint(results)\\n'"
      ]
     },
     "execution_count": 2,
     "metadata": {},
     "output_type": "execute_result"
    }
   ],
   "source": [
    "from scipy import stats\n",
    "import multiprocessing as mp\n",
    "import numpy as np\n",
    "\n",
    "'''\n",
    "pool = mp.Pool(processes=N_FEATURES)\n",
    "results = pool.map(cube, range(1,7))\n",
    "print(results)\n",
    "'''"
=======
   "execution_count": null,
   "metadata": {
    "collapsed": true
   },
   "outputs": [],
   "source": [
    "from scipy import stats\n",
    "import multiprocessing as mp\n",
    "\n",
    "pool = mp.Pool(processes=N_FEATURES)\n",
    "results = pool.map(cube, range(1,7))\n",
    "print(results)"
>>>>>>> 053df9c3c5b6b03b922363c5f4d75a0d0eb7d110
   ]
  },
  {
   "cell_type": "code",
   "execution_count": null,
   "metadata": {
    "collapsed": true
   },
   "outputs": [],
   "source": [
    "# we're given nObs * nFeatures dataset called \"dataRaw\"\n",
    "(nObs,nFeatures) = data_raw.shape\n",
    "print 'The dataset has %.0f observations and %.0f features' % (nObs,nFeatures)\n",
    "\n",
<<<<<<< HEAD
    "# NaNs are distributed throughout the data\n",
    "nanidx = np.isnan(data_raw)\n",
    "\n",
    "# copy the data. we are going to fill in the NaNs\n",
    "data = data_raw.copy()"
   ]
  },
  {
   "cell_type": "code",
   "execution_count": null,
   "metadata": {
    "collapsed": true
   },
   "outputs": [],
   "source": [
    "# we need to get the sample distribution of each variable\n",
    "kdes = []\n",
    "for i in range(nFeatures):\n",
    "    kde_i = stats.gaussian_kde(data_raw[:,i])\n",
    "    kdes.append(kde_i)"
   ]
  },
  {
   "cell_type": "code",
   "execution_count": 2,
   "metadata": {
    "collapsed": false
   },
   "outputs": [
    {
     "ename": "NameError",
     "evalue": "name 'datan' is not defined",
     "output_type": "error",
     "traceback": [
      "\u001b[1;31m---------------------------------------------------------------------------\u001b[0m",
      "\u001b[1;31mNameError\u001b[0m                                 Traceback (most recent call last)",
      "\u001b[1;32m<ipython-input-2-a57582da60c3>\u001b[0m in \u001b[0;36m<module>\u001b[1;34m()\u001b[0m\n\u001b[0;32m      1\u001b[0m \u001b[1;31m# draw from this sample distribution\u001b[0m\u001b[1;33m\u001b[0m\u001b[1;33m\u001b[0m\u001b[0m\n\u001b[1;32m----> 2\u001b[1;33m \u001b[1;32mprint\u001b[0m \u001b[0mdatan\u001b[0m\u001b[1;33m\u001b[0m\u001b[0m\n\u001b[0m",
      "\u001b[1;31mNameError\u001b[0m: name 'datan' is not defined"
     ]
    }
   ],
   "source": [
    "# draw from this sample distribution\n",
    "print datan"
   ]
  },
  {
   "cell_type": "code",
   "execution_count": 7,
   "metadata": {
    "collapsed": false
   },
   "outputs": [
    {
     "data": {
      "text/plain": [
       "(array([ 1.,  1.,  1.,  1.,  0.,  1.,  1.,  1.,  1.,  1.]),\n",
       " array([ 1. ,  1.8,  2.6,  3.4,  4.2,  5. ,  5.8,  6.6,  7.4,  8.2,  9. ]),\n",
       " <a list of 10 Patch objects>)"
      ]
     },
     "execution_count": 7,
     "metadata": {},
     "output_type": "execute_result"
    }
   ],
   "source": [
    "data = range(1,10)\n",
    "import matplotlib.pyplot as plt\n",
    "plt.hist(data)\n"
   ]
  },
  {
   "cell_type": "code",
   "execution_count": null,
   "metadata": {
    "collapsed": true
   },
   "outputs": [],
   "source": [
    "%matplotlib inline"
   ]
  },
  {
   "cell_type": "code",
   "execution_count": 10,
   "metadata": {
    "collapsed": false
   },
   "outputs": [
    {
     "data": {
      "image/png": "iVBORw0KGgoAAAANSUhEUgAAAYQAAAEACAYAAACznAEdAAAABHNCSVQICAgIfAhkiAAAAAlwSFlz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\nSUVORK5CYII=\n",
      "text/plain": [
       "<matplotlib.figure.Figure at 0x7f82990f8e90>"
      ]
     },
     "metadata": {},
     "output_type": "display_data"
    }
   ],
   "source": [
    "\n",
    "import random\n",
    "import matplotlib.pyplot as plt\n",
    "x = random.sample(range(1000), 100)\n",
    "xbins = [0, len(x)]\n",
    "plt.bar(range(0,100), x)\n",
    "plt.show()\n"
=======
    "# we need to get the sample distribution of each variable\n",
    "kdes = []\n",
    "for i in range(nFeatures):\n",
    "    kdes.append(stats.gaussian_kde(data_raw[:,i]))"
>>>>>>> 053df9c3c5b6b03b922363c5f4d75a0d0eb7d110
   ]
  }
 ],
 "metadata": {
  "kernelspec": {
   "display_name": "Python 2",
   "language": "python",
   "name": "python2"
  },
  "language_info": {
   "codemirror_mode": {
    "name": "ipython",
    "version": 2
   },
   "file_extension": ".py",
   "mimetype": "text/x-python",
   "name": "python",
   "nbconvert_exporter": "python",
   "pygments_lexer": "ipython2",
   "version": "2.7.6"
  }
 },
 "nbformat": 4,
 "nbformat_minor": 0
}
