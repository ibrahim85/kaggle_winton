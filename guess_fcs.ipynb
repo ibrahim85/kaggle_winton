{
 "cells": [
  {
   "cell_type": "markdown",
   "metadata": {},
   "source": [
    "# Gibbs Sampler\n",
    "\n",
    "1. Seeding:\n",
    "    * Get the sample distribution of each variable\n",
    "    * Draw randomly from this distribution to fill in the missing values\n",
    "2. In parallel:\n",
    "    * forecast one variable using all the others\n",
    "    --> recombine forecasts and compare similarity of new matrix to old\n",
    "    * forecasting can use any appropriate machine learning technique.\n",
    "      for example, SGD (to replace linear regression), or decision tree.\n",
    "3. Iterate 5-10 times"
   ]
  },
  {
   "cell_type": "code",
   "execution_count": null,
   "metadata": {
    "collapsed": true
   },
   "outputs": [],
   "source": [
    "from scipy import stats\n",
    "import multiprocessing as mp\n",
    "\n",
    "pool = mp.Pool(processes=N_FEATURES)\n",
    "results = pool.map(cube, range(1,7))\n",
    "print(results)"
   ]
  },
  {
   "cell_type": "code",
   "execution_count": null,
   "metadata": {
    "collapsed": true
   },
   "outputs": [],
   "source": [
    "# we're given nObs * nFeatures dataset called \"dataRaw\"\n",
    "(nObs,nFeatures) = data_raw.shape\n",
    "print 'The dataset has %.0f observations and %.0f features' % (nObs,nFeatures)\n",
    "\n",
    "# we need to get the sample distribution of each variable\n",
    "kdes = []\n",
    "for i in range(nFeatures):\n",
    "    kdes.append(stats.gaussian_kde(data_raw[:,i]))"
   ]
  }
 ],
 "metadata": {
  "kernelspec": {
   "display_name": "Python 2",
   "language": "python",
   "name": "python2"
  },
  "language_info": {
   "codemirror_mode": {
    "name": "ipython",
    "version": 2
   },
   "file_extension": ".py",
   "mimetype": "text/x-python",
   "name": "python",
   "nbconvert_exporter": "python",
   "pygments_lexer": "ipython2",
   "version": "2.7.6"
  }
 },
 "nbformat": 4,
 "nbformat_minor": 0
}
