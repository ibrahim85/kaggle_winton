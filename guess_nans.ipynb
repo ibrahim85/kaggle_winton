{
 "cells": [
  {
   "cell_type": "markdown",
   "metadata": {},
   "source": [
    "# Guess NaNs\n",
    "\n",
    "Function which passes the task of guessing NaNs to various subfunctions which implement different guessing techniques:\n",
    "    * K-nearest-neighbor imputation\n",
    "    * Fully Conditional Specification (FCS)\n",
    "    * etc"
   ]
  }
 ],
 "metadata": {
  "kernelspec": {
   "display_name": "Python 2",
   "language": "python",
   "name": "python2"
  },
  "language_info": {
   "codemirror_mode": {
    "name": "ipython",
    "version": 2
   },
   "file_extension": ".py",
   "mimetype": "text/x-python",
   "name": "python",
   "nbconvert_exporter": "python",
   "pygments_lexer": "ipython2",
   "version": "2.7.6"
  }
 },
 "nbformat": 4,
 "nbformat_minor": 0
}
