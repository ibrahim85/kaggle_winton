{
 "cells": [
  {
   "cell_type": "markdown",
   "metadata": {},
   "source": [
    "# Guess NaNs\n",
    "\n",
    "Function which passes the task of guessing NaNs to various subfunctions which implement different guessing techniques:\n",
    "    * K-nearest-neighbor imputation\n",
    "    * Fully Conditional Specification (FCS)\n",
    "    * etc"
   ]
  },
  {
   "cell_type": "code",
   "execution_count": null,
   "metadata": {
    "collapsed": true
   },
   "outputs": [],
   "source": [
    "def guess_nans(data_raw,algorithm='knn'):\n",
    "    if algorithm=='knn'\n",
    "        return gues_knn(data_raw)\n",
    "    elif algorithm=='fcs'\n",
    "        return guess_fcs(data_raw)\n",
    "    else\n",
    "        raise Exception('the only algorithms currrently supported are knn and fcs')"
   ]
  }
 ],
 "metadata": {
  "kernelspec": {
   "display_name": "Python 2",
   "language": "python",
   "name": "python2"
  },
  "language_info": {
   "codemirror_mode": {
    "name": "ipython",
    "version": 2
   },
   "file_extension": ".py",
   "mimetype": "text/x-python",
   "name": "python",
   "nbconvert_exporter": "python",
   "pygments_lexer": "ipython2",
   "version": "2.7.6"
  }
 },
 "nbformat": 4,
 "nbformat_minor": 0
}
