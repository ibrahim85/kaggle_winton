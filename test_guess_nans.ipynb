{
 "cells": [
  {
   "cell_type": "markdown",
   "metadata": {},
   "source": [
    "# Test the methods we have developed for guessing missing values\n"
   ]
  },
  {
   "cell_type": "code",
   "execution_count": 1,
   "metadata": {
    "collapsed": true
   },
   "outputs": [],
   "source": [
    "from sklearn import linear_model\n",
    "import numpy as np\n",
    "import random\n",
    "import math\n",
    "import matplotlib.pyplot as plt\n",
    "%matplotlib inline\n",
    "from scipy import stats\n",
    "import multiprocessing as mp\n",
    "from functools import partial\n",
    "from __future__ import division"
   ]
  },
  {
   "cell_type": "code",
   "execution_count": 2,
   "metadata": {
    "collapsed": false
   },
   "outputs": [
    {
     "name": "stdout",
     "output_type": "stream",
     "text": [
      "The dataset has 4000 observations and 25 features\n"
     ]
    },
    {
     "name": "stderr",
     "output_type": "stream",
     "text": [
      "/usr/local/lib/python2.7/dist-packages/IPython/kernel/__main__.py:22: RuntimeWarning: covariance is not positive-semidefinite.\n"
     ]
    }
   ],
   "source": [
    "# generate random data from multivariate normal distribution\n",
    "N_OBS = 4000;\n",
    "nFeatures = 25;\n",
    "\n",
    "# randomly generate correlation matrix for the distribution. All correlations must\n",
    "# be between -1 and 1. 'random' uses the uniform distribution.\n",
    "C = np.random.random((nFeatures,nFeatures))*2. - 1.\n",
    "for i in range(nFeatures):\n",
    "    C[i,i] = 1.\n",
    "# ensure symmetry\n",
    "C = (C + C.T)/2.\n",
    "# randomly generate volatilities. All volatilities must be positive.\n",
    "v = np.random.rand(nFeatures,1)*10.\n",
    "# covariance matrix. Convolve volatilites and correlations. (v*v').*(C)\n",
    "V = np.dot(v,v.T)\n",
    "# alternative way:\n",
    "V = np.outer(v,v)\n",
    "cov = V * C\n",
    "# randomly generate nFeatures\n",
    "mu = np.random.rand(nFeatures,)*2. - 1.\n",
    "# randomly generate data\n",
    "data = np.random.multivariate_normal(mu,cov,N_OBS)\n",
    "\n",
    "(nObs,nFeatures) = data.shape\n",
    "print 'The dataset has %.0f observations and %.0f features' % (nObs,nFeatures)"
   ]
  },
  {
   "cell_type": "code",
   "execution_count": 3,
   "metadata": {
    "collapsed": false
   },
   "outputs": [
    {
     "name": "stdout",
     "output_type": "stream",
     "text": [
      "The fraction of the data that is missing is 0.29\n"
     ]
    }
   ],
   "source": [
    "# make copy of the data and NaN out some at random\n",
    "NA_FRACTION = 0.29\n",
    "datan = np.copy(data)\n",
    "\n",
    "# create a random index for the subsample that will be created to NAs\n",
    "random_index = sorted(random.sample(range(datan.size),int(math.floor(datan.size*NA_FRACTION))))\n",
    "datan.shape = (N_OBS*nFeatures,)\n",
    "datan[random_index] = np.nan\n",
    "datan.shape = (N_OBS,nFeatures)\n",
    "\n",
    "print 'The fraction of the data that is missing is %.2f' % \\\n",
    "        (sum(np.ravel(np.isnan(datan))) / datan.size)"
   ]
  },
  {
   "cell_type": "markdown",
   "metadata": {},
   "source": [
    "## FCS (fully conditional specification)\n",
    "\n",
    "\n",
    "1. Seeding:\n",
    "    * Get the sample distribution of each variable\n",
    "    * Draw randomly from this distribution to fill in the missing values\n",
    "2. In parallel:\n",
    "    * forecast one variable using all the others --> recombine forecasts and compare similarity of new dataset to old\n",
    "    * forecasting can use any appropriate machine learning technique. for example, SGD (to replace linear regression), or decision tree.\n",
    "3. Iterate 3-5 times"
   ]
  },
  {
   "cell_type": "code",
   "execution_count": 135,
   "metadata": {
    "collapsed": false
   },
   "outputs": [],
   "source": [
    "# forecast one variable using the others\n",
    "def forecasting_method(dataset,fitmethod,yindex):\n",
    "    # yindex is the column to forecast using the other columns\n",
    "\n",
    "    fitmethods = {'ols':linear_model.LinearRegression(fit_intercept=True, normalize=False, copy_X=True), \\\n",
    "                  'sgd':linear_model.SGDRegressor(fit_intercept=True)}\n",
    "    \n",
    "    if dataset.ndim != 2:\n",
    "        raise Exception('dataset must be 2-dimensional')\n",
    "    nrows,ncols = dataset.shape\n",
    "    \n",
    "    # X is every column except the column specified by yindex\n",
    "    X = dataset[:,[c for c in range(ncols) if c != yindex]]\n",
    "    y = dataset[:,yindex]\n",
    "    fitmethods[fitmethod].fit(X,y)\n",
    "    yhat = fitmethods[fitmethod].predict(X)\n",
    "    return yhat"
   ]
  },
  {
   "cell_type": "code",
   "execution_count": 136,
   "metadata": {
    "collapsed": false
   },
   "outputs": [],
   "source": [
    "def guess_fcs(datan,method='ols'):\n",
    "    # we need to get the sample distribution of each variable\n",
    "    kdes = []\n",
    "    for i in range(nFeatures):\n",
    "        nidx_i = np.isnan(datan[:,i])\n",
    "        kde_i = stats.gaussian_kde(datan[~nidx_i,i])\n",
    "        kdes.append(kde_i)\n",
    "    \n",
    "    # draw randomly from the sample distribution to fill in the missing values\n",
    "    # !! later - dont copy whole dataset !!\n",
    "    datan_seeded = np.copy(datan)\n",
    "    for i in range(nFeatures):\n",
    "        nidx_i = np.isnan(datan[:,i])\n",
    "        sample_i = kdes[i].resample(sum(nidx_i)).T\n",
    "        # stupid reshaping due to broadcasting error\n",
    "        datan_seeded[nidx_i,i] = sample_i.reshape(len(sample_i),)\n",
    "    \n",
    "    # In parallel: forecast one feature using all the others\n",
    "    nFCSIterations = 5\n",
    "    datan_updated = []\n",
    "    rmse = []\n",
    "\n",
    "    for i in range(nFCSIterations): \n",
    "        # start a pool of multiprocessors\n",
    "        # number of processes defaults to number of cores on your machine\n",
    "        pool = mp.Pool(processes=min(4,mp.cpu_count()))\n",
    "\n",
    "        # choose the input dataset to point to\n",
    "        if i==0:\n",
    "            initialData = datan_seeded\n",
    "        else:\n",
    "            initialData = datan_updated[i-1]\n",
    "\n",
    "        # give the same dataset to each processor, but indexing a different column to forecast\n",
    "        forecastedDataList = pool.map(partial(forecasting_method,initialData,method),range(nFeatures))\n",
    "\n",
    "        # do some cleanup (what does join do?)\n",
    "        pool.close()\n",
    "        pool.join()\n",
    "\n",
    "        # update the dataset's missing values with the forecasts\n",
    "        datan_updated.append(np.copy(initialData))\n",
    "        for f in range(nFeatures):\n",
    "            nidx_f = np.isnan(datan[:,f])\n",
    "            datan_updated[i][nidx_f,f] = forecastedDataList[f][nidx_f]\n",
    "\n",
    "    return datan_updated[i]\n"
   ]
  },
  {
   "cell_type": "markdown",
   "metadata": {},
   "source": [
    "## K-Nearest-Neighbor Imputation\n"
   ]
  },
  {
   "cell_type": "code",
   "execution_count": 137,
   "metadata": {
    "collapsed": true
   },
   "outputs": [],
   "source": [
    "# !! at the moment this is a dummy function which does seeding instead of KNN !!\n",
    "def guess_knn(datan):\n",
    "    # we need to get the sample distribution of each variable\n",
    "    kdes = []\n",
    "    datan_seeded = np.copy(datan)\n",
    "    for i in range(nFeatures):\n",
    "        nidx_i = np.isnan(datan[:,i])\n",
    "        kde_i = stats.gaussian_kde(datan[~nidx_i,i])\n",
    "        kdes.append(kde_i)\n",
    "        \n",
    "        # draw randomly from the sample distribution to fill in the missing values\n",
    "        sample_i = kdes[i].resample(sum(nidx_i)).T\n",
    "        # stupid reshaping due to broadcasting error\n",
    "        datan_seeded[nidx_i,i] = sample_i.reshape(len(sample_i),)\n",
    "    \n",
    "    return datan_seeded\n"
   ]
  },
  {
   "cell_type": "code",
   "execution_count": 138,
   "metadata": {
    "collapsed": false
   },
   "outputs": [],
   "source": [
    "datahat_knn = guess_knn(datan)\n",
    "datahat_fcs_lin = guess_fcs(datan,method='ols')\n",
    "# datahat_fcs_sgd = guess_fcs(datan,method='sgd')\n"
   ]
  },
  {
   "cell_type": "code",
   "execution_count": 155,
   "metadata": {
    "collapsed": false
   },
   "outputs": [
    {
     "data": {
      "image/png": "[encoded data removed]",
      "text/plain": [
       "<matplotlib.figure.Figure at 0x7fcf542acdd0>"
      ]
     },
     "metadata": {},
     "output_type": "display_data"
    }
   ],
   "source": [
    "rmse_knn     = np.sqrt(np.sum((datahat_knn-data)**2))\n",
    "rmse_fcs_lin = np.sqrt(np.sum((datahat_fcs_lin-data)**2))\n",
    "# rmse_fcs_sgd = np.sqrt(np.sum((datahat_fcs_sgd-data)**2))\n",
    "fig, ax = plt.subplots()\n",
    "ax.bar([1,2],[rmse_knn,rmse_fcs_lin],width=0.75,color='b',align='center')\n",
    "# ax.bar([1,2,3],[rmse_knn,rmse_fcs_lin,rmse_fcs_sgd],width=0.75,color='b',align='center')\n",
    "ax.set_title('RMSE by method')\n",
    "ax.set_ylabel('RMSE')\n",
    "ax.set_xticks([1,2])\n",
    "ax.set_xticklabels(('KNN', 'FCS (ols)'))\n",
    "# ax.set_xticklabels(('KNN', 'FCS (ols)','FCS (sgd)'))\n",
    "plt.show()"
   ]
  },
  {
   "cell_type": "code",
   "execution_count": 153,
   "metadata": {
    "collapsed": false
   },
   "outputs": [
    {
     "name": "stdout",
     "output_type": "stream",
     "text": [
      "-9.34216094477e+279\n"
     ]
    }
   ],
   "source": []
  },
  {
   "cell_type": "code",
   "execution_count": 16,
   "metadata": {
    "collapsed": false
   },
   "outputs": [
    {
     "data": {
      "image/png": "[encoded data removed]",
      "text/plain": [
       "<matplotlib.figure.Figure at 0x7f710d8254d0>"
      ]
     },
     "metadata": {},
     "output_type": "display_data"
    }
   ],
   "source": [
    "aa = np.random.normal(4,60,1000)\n",
    "plt.hist(aa)\n",
    "plt.show()\n",
    "kk = stats.gaussian_kde(aa)"
   ]
  },
  {
   "cell_type": "code",
   "execution_count": 17,
   "metadata": {
    "collapsed": false
   },
   "outputs": [
    {
     "data": {
      "text/plain": [
       "8"
      ]
     },
     "execution_count": 17,
     "metadata": {},
     "output_type": "execute_result"
    }
   ],
   "source": [
    "mp.cpu_count()"
   ]
  }
 ],
 "metadata": {
  "kernelspec": {
   "display_name": "Python 2",
   "language": "python",
   "name": "python2"
  },
  "language_info": {
   "codemirror_mode": {
    "name": "ipython",
    "version": 2
   },
   "file_extension": ".py",
   "mimetype": "text/x-python",
   "name": "python",
   "nbconvert_exporter": "python",
   "pygments_lexer": "ipython2",
   "version": "2.7.6"
  }
 },
 "nbformat": 4,
 "nbformat_minor": 0
}
