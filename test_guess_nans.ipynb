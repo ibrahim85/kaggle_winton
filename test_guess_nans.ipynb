{
 "cells": [
  {
   "cell_type": "markdown",
   "metadata": {},
   "source": [
<<<<<<< HEAD
    "# Test the methods we have developed for guessing missing values\n"
=======
    "# Test our algorithm for guessing missing values"
>>>>>>> 053df9c3c5b6b03b922363c5f4d75a0d0eb7d110
   ]
  },
  {
   "cell_type": "code",
   "execution_count": 1,
   "metadata": {
<<<<<<< HEAD
    "collapsed": true
   },
   "outputs": [],
   "source": [
    "from sklearn import linear_model\n",
    "import numpy as np\n",
    "import random\n",
    "import math\n",
    "import matplotlib.pyplot as plt\n",
    "%matplotlib inline\n",
    "from scipy import stats\n",
    "import multiprocessing as mp\n",
    "from functools import partial\n",
=======
    "collapsed": false
   },
   "outputs": [],
   "source": [
    "#def test_missing_values_guess(N_OBS,N_FEATURES):\n",
    "\"\"\"\n",
    "hello!\n",
    "This is a script that tests our algorithm for imputing missing values (NAs). I\n",
    "generate data from distributions where the Features\n",
    "have some relationship to each other (such as multivariate normal), which makes\n",
    "it worthwhile to do something more intelligent than just using the mean value\n",
    "for each Feature.\n",
    "\n",
    "Steps:\n",
    "1. Create distribution (for multivariate normal, create means & covariances)\n",
    "2. Generate data from that distribution\n",
    "3. Convert a randomly selected subset of the data to NAs\n",
    "4. Apply the algorithm to impute the NAs\n",
    "5. Calculate how close the algorithm got to the true values\n",
    "\"\"\"\n",
    "import numpy as np\n",
    "import random\n",
    "import math\n",
>>>>>>> 053df9c3c5b6b03b922363c5f4d75a0d0eb7d110
    "from __future__ import division"
   ]
  },
  {
   "cell_type": "code",
   "execution_count": 2,
   "metadata": {
<<<<<<< HEAD
=======
    "collapsed": true
   },
   "outputs": [],
   "source": [
    "# How big a dataset do we want to test on\n",
    "N_OBS = 100;\n",
    "N_FEATURES = 4;"
   ]
  },
  {
   "cell_type": "markdown",
   "metadata": {},
   "source": [
    "## Test case 1: Multivariate normal distribution"
   ]
  },
  {
   "cell_type": "code",
   "execution_count": 3,
   "metadata": {
>>>>>>> 053df9c3c5b6b03b922363c5f4d75a0d0eb7d110
    "collapsed": false
   },
   "outputs": [
    {
     "name": "stdout",
     "output_type": "stream",
     "text": [
<<<<<<< HEAD
      "The dataset has 4000 observations and 25 features\n"
     ]
    },
    {
     "name": "stderr",
     "output_type": "stream",
     "text": [
      "/usr/local/lib/python2.7/dist-packages/IPython/kernel/__main__.py:22: RuntimeWarning: covariance is not positive-semidefinite.\n"
=======
      "[[  3.60926792e+00  -3.58986806e-01  -2.50852197e+00]\n",
      " [ -5.50267312e+00  -3.88657137e+00   4.28605289e+00]\n",
      " [  2.61083069e+00   4.50628680e+00  -5.93036463e+00]\n",
      " [  1.17814541e+01  -5.37141827e-01   6.42202402e+00]\n",
      " [  1.25044894e+00  -1.25424032e+00  -4.37350875e-01]\n",
      " [  7.04339858e+00   1.47752689e-01   2.39328236e+00]\n",
      " [  3.74592304e+00   2.90100656e+00  -5.36980736e+00]\n",
      " [  7.60547875e+00  -2.24639044e-01  -9.18198712e+00]\n",
      " [ -3.85530758e+00   2.95064533e+00   7.52376085e+00]\n",
      " [  6.00863935e+00   6.75862934e+00   8.63318584e+00]\n",
      " [ -2.93278025e+00  -5.87426566e+00  -2.12040179e+00]\n",
      " [  7.87261923e+00  -1.63841554e+00  -1.74265166e+00]\n",
      " [ -5.50590623e+00  -4.26619889e+00   1.97950701e+00]\n",
      " [ -3.30363860e+00  -4.77039461e+00  -1.15644978e+01]\n",
      " [  8.03762245e+00  -7.64257691e-02   9.31540241e-01]\n",
      " [  2.07911839e+01   5.64396160e+00  -3.43745876e+00]\n",
      " [  6.53549494e+00  -4.04606099e-01   2.08676229e+00]\n",
      " [  3.28676109e+00  -7.48490839e-01   9.73360191e-01]\n",
      " [ -4.68257603e+00  -4.62730296e-02   8.12425142e-01]\n",
      " [  6.86987145e+00  -1.18645047e+00   7.78660477e-02]\n",
      " [  1.16652016e+01   4.30508526e-01  -3.70299570e+00]\n",
      " [ -1.00939954e+01  -2.22758372e+00   4.48246478e+00]\n",
      " [  3.37815836e+00  -1.87283132e-01   7.20790414e+00]\n",
      " [  4.22406818e+00   1.09670691e+00   4.72529799e+00]\n",
      " [ -1.19371495e+01  -1.13280412e+00  -2.70460693e-01]\n",
      " [  3.26156021e+00   4.10673114e+00   9.12286968e+00]\n",
      " [ -1.55346730e+01  -2.58751372e+00   7.33336383e+00]\n",
      " [ -1.00300097e+01  -3.70489207e+00   8.43637855e+00]\n",
      " [ -2.16045030e+00   4.27634853e+00   6.63171748e-01]\n",
      " [ -4.60005127e+00   2.27138608e-02   1.60958637e+00]\n",
      " [ -3.17538991e+00   3.65116775e+00  -3.46600159e+00]\n",
      " [ -4.04432239e+00  -5.53933380e-01  -5.15812686e-01]\n",
      " [  4.06886185e+00  -3.20794219e+00  -1.35388735e+01]\n",
      " [  3.88195015e+00   6.63837846e-01  -1.33967474e+00]\n",
      " [ -4.41202309e+00  -2.58405811e+00   8.40843383e+00]\n",
      " [  4.85575943e+00  -3.30552978e+00  -2.39667640e+00]\n",
      " [  1.72221742e+00  -3.28622736e+00  -1.15911619e+01]\n",
      " [ -6.17340636e+00  -2.72940669e+00  -2.35935490e+00]\n",
      " [ -9.33898656e+00   1.86133184e+00   5.11398300e+00]\n",
      " [ -7.46807930e+00  -1.21557560e+00   8.37534264e-01]\n",
      " [  7.64111152e+00   1.28477210e+00   3.18318317e+00]\n",
      " [  6.13881555e-01   1.59830259e+00  -5.83325949e+00]\n",
      " [ -9.57540971e+00  -3.91367743e+00  -4.97780371e+00]\n",
      " [  2.32733883e+00   1.89660832e+00   1.18771428e+01]\n",
      " [ -7.98335601e-01  -1.49101790e+00  -1.59855307e+00]\n",
      " [ -1.61300510e+01  -3.24002372e+00  -1.10722046e+00]\n",
      " [  4.91881719e+00   4.14883327e+00   9.55256355e+00]\n",
      " [ -9.12955246e+00   1.85240753e+00   4.71736480e+00]\n",
      " [  9.22373701e+00  -3.04042022e+00  -5.75064970e+00]\n",
      " [ -1.68098359e+01   1.93996108e+00   2.23457818e+00]\n",
      " [ -1.84313436e+01  -2.89895665e+00  -1.78160449e+00]\n",
      " [  4.07074806e+00  -1.91382528e+00  -7.28612866e+00]\n",
      " [ -1.07488928e+00  -3.30075939e+00  -4.69054080e+00]\n",
      " [  3.14882849e+00  -4.45457554e+00  -1.37923756e+01]\n",
      " [  5.52974272e+00   2.65722703e+00   3.18812986e+00]\n",
      " [ -5.95532889e+00   1.54538959e-02  -6.09777446e+00]\n",
      " [  1.78986659e+00  -2.59129167e+00  -1.14848834e+00]\n",
      " [  8.51816862e-01  -4.88869122e+00  -7.98528479e+00]\n",
      " [  6.82724647e-01  -4.43175819e-01   6.54873411e+00]\n",
      " [ -1.56174918e+01  -1.31163966e+00  -1.68321856e+00]\n",
      " [ -9.74754001e+00   3.47449129e-01  -5.32700401e+00]\n",
      " [  1.93944077e+00  -1.16453882e+00  -3.08295091e+00]\n",
      " [ -6.26551518e+00  -1.19483385e+00   3.62946315e-01]\n",
      " [ -2.13553253e+00  -2.58389494e+00  -9.72356187e+00]\n",
      " [  6.19509032e+00   6.87496105e-01   5.86458679e-01]\n",
      " [  1.04426899e+01   4.84204725e+00   2.33968776e-01]\n",
      " [ -5.49942045e+00   4.10383269e+00  -4.07861022e+00]\n",
      " [  2.31485099e+00  -2.53993522e+00  -1.08856959e+01]\n",
      " [  2.17902484e+01   3.93211575e+00  -1.16905680e+01]\n",
      " [  1.42700236e+01   3.50023949e+00  -3.16273758e+00]\n",
      " [  1.26330538e+01   2.27697696e+00  -5.12285358e+00]\n",
      " [  2.48286559e-01  -4.13781200e-01   2.75567513e+00]\n",
      " [  1.54115956e+01   2.25487400e+00  -1.17555307e+01]\n",
      " [  4.34334028e+00   2.97071972e+00   2.79494124e+00]\n",
      " [ -8.76760223e+00   3.66697727e-01  -1.36856196e-01]\n",
      " [  2.56479446e+00   2.78309706e+00  -1.00982690e+01]\n",
      " [  5.88227172e+00   1.05741797e+00   9.56298145e+00]\n",
      " [  2.07695093e+01   3.15688047e+00  -5.81024651e+00]\n",
      " [ -2.22212318e+00  -5.50851469e+00  -2.58458005e+00]\n",
      " [ -4.08917651e+00  -4.20759841e-01   7.05514040e+00]\n",
      " [  1.60157037e+01   1.20181813e+00   4.40992365e+00]\n",
      " [  2.17272635e+00   6.23111194e-01  -1.16097839e+01]\n",
      " [  1.47803524e+01   1.63411784e+00  -1.33033758e-02]\n",
      " [  3.43665309e+00   7.76945128e-01   8.76369669e+00]\n",
      " [ -4.45929274e+00  -5.81273747e+00  -2.47261307e-01]\n",
      " [  6.63409563e+00  -2.84286576e+00  -4.76758338e+00]\n",
      " [ -1.36311346e+01  -1.16542188e+00   3.42900709e+00]\n",
      " [  1.62346420e+00  -6.26024330e-01   3.54032796e+00]\n",
      " [  8.28116068e+00   4.97782794e-01   5.48642440e+00]\n",
      " [ -3.95538914e+00  -3.39544414e+00  -2.10466009e+00]\n",
      " [  1.54403989e+00   3.15357638e-01  -3.32956803e+00]\n",
      " [ -4.21562917e+00  -1.58028498e+00  -5.21656137e+00]\n",
      " [ -1.67177219e+01  -2.15798520e+00  -7.36124580e+00]\n",
      " [  1.93258572e-01   2.27418946e-01  -4.76881438e+00]\n",
      " [  8.94216283e+00   4.55466788e+00  -6.41979669e+00]\n",
      " [ -1.86819301e+01  -2.13024484e+00  -7.15736387e-01]\n",
      " [  8.97003955e+00   1.07093747e+00  -5.26070646e-01]\n",
      " [ -5.34701149e+00  -3.98902496e+00  -2.15376022e+00]\n",
      " [  3.31440381e+00  -1.92070146e+00  -1.22543954e+01]\n",
      " [  9.04103143e+00   1.19630191e+00   5.03083077e+00]]\n"
>>>>>>> 053df9c3c5b6b03b922363c5f4d75a0d0eb7d110
     ]
    }
   ],
   "source": [
<<<<<<< HEAD
    "# generate random data from multivariate normal distribution\n",
    "N_OBS = 4000;\n",
    "nFeatures = 25;\n",
    "\n",
    "# randomly generate correlation matrix for the distribution. All correlations must\n",
    "# be between -1 and 1. 'random' uses the uniform distribution.\n",
    "C = np.random.random((nFeatures,nFeatures))*2. - 1.\n",
    "for i in range(nFeatures):\n",
    "    C[i,i] = 1.\n",
    "# ensure symmetry\n",
    "C = (C + C.T)/2.\n",
    "# randomly generate volatilities. All volatilities must be positive.\n",
    "v = np.random.rand(nFeatures,1)*10.\n",
=======
    "# Case 1: Single Multivariate Normal distribution\n",
    "# randomly generate correlation matrix for the distribution. All correlations must\n",
    "# be between -1 and 1. 'random' uses the uniform distribution.\n",
    "C = np.random.random((N_FEATURES,N_FEATURES))*2. - 1.\n",
    "for i in range(N_FEATURES):\n",
    "    C[i,i] = 1.\n",
    "# randomly generate volatilities. All volatilities must be positive.\n",
    "v = np.random.rand(N_FEATURES,1)*10.\n",
>>>>>>> 053df9c3c5b6b03b922363c5f4d75a0d0eb7d110
    "# covariance matrix. Convolve volatilites and correlations. (v*v').*(C)\n",
    "V = np.dot(v,v.T)\n",
    "# alternative way:\n",
    "V = np.outer(v,v)\n",
    "cov = V * C\n",
<<<<<<< HEAD
    "# randomly generate nFeatures\n",
    "mu = np.random.rand(nFeatures,)*2. - 1.\n",
    "# randomly generate data\n",
    "data = np.random.multivariate_normal(mu,cov,N_OBS)\n",
    "\n",
    "(nObs,nFeatures) = data.shape\n",
    "print 'The dataset has %.0f observations and %.0f features' % (nObs,nFeatures)"
=======
    "# ensure symmetry\n",
    "cov = (cov + cov.T)/2.\n",
    "# randomly generate means\n",
    "mu = np.random.rand(N_FEATURES,)*2. - 1.\n",
    "# randomly generate data\n",
    "data = np.random.multivariate_normal(mu,cov,N_OBS)\n",
    "print data"
>>>>>>> 053df9c3c5b6b03b922363c5f4d75a0d0eb7d110
   ]
  },
  {
   "cell_type": "code",
<<<<<<< HEAD
   "execution_count": 3,
=======
   "execution_count": 4,
>>>>>>> 053df9c3c5b6b03b922363c5f4d75a0d0eb7d110
   "metadata": {
    "collapsed": false
   },
   "outputs": [
    {
<<<<<<< HEAD
     "name": "stdout",
     "output_type": "stream",
     "text": [
      "The fraction of the data that is missing is 0.29\n"
     ]
    }
   ],
   "source": [
    "# make copy of the data and NaN out some at random\n",
    "NA_FRACTION = 0.29\n",
    "datan = np.copy(data)\n",
    "\n",
    "# create a random index for the subsample that will be created to NAs\n",
    "random_index = sorted(random.sample(range(datan.size),int(math.floor(datan.size*NA_FRACTION))))\n",
    "datan.shape = (N_OBS*nFeatures,)\n",
    "datan[random_index] = np.nan\n",
    "datan.shape = (N_OBS,nFeatures)\n",
    "\n",
    "print 'The fraction of the data that is missing is %.2f' % \\\n",
    "        (sum(np.ravel(np.isnan(datan))) / datan.size)"
=======
     "data": {
      "text/plain": [
       "0.19"
      ]
     },
     "execution_count": 4,
     "metadata": {},
     "output_type": "execute_result"
    }
   ],
   "source": [
    "# choose random fraction of data to convert to NAs\n",
    "NA_FRACTION = 0.19\n",
    "\n",
    "# create copy of data. This copy will have data converted to NAs\n",
    "datan = data\n",
    "# create a random index for the subsample that will be created to NAs\n",
    "random_index = sorted(random.sample(range(datan.size),int(math.floor(datan.size*NA_FRACTION))))\n",
    "# heres a better way to do it! convert to 1D array, convert subset of data\n",
    "# randomly selected by the index to NA, then return to original shape\n",
    "datan.shape = (N_OBS*N_FEATURES,)\n",
    "datan[random_index] = np.nan\n",
    "datan.shape = (N_OBS,N_FEATURES)\n",
    "np.isnan(datan).sum() / np.size(datan)"
>>>>>>> 053df9c3c5b6b03b922363c5f4d75a0d0eb7d110
   ]
  },
  {
   "cell_type": "markdown",
   "metadata": {},
   "source": [
<<<<<<< HEAD
    "## FCS (fully conditional specification)\n",
    "\n",
    "\n",
    "1. Seeding:\n",
    "    * Get the sample distribution of each variable\n",
    "    * Draw randomly from this distribution to fill in the missing values\n",
    "2. In parallel:\n",
    "    * forecast one variable using all the others --> recombine forecasts and compare similarity of new dataset to old\n",
    "    * forecasting can use any appropriate machine learning technique. for example, SGD (to replace linear regression), or decision tree.\n",
    "3. Iterate 3-5 times"
=======
    "### Guess the missing data"
>>>>>>> 053df9c3c5b6b03b922363c5f4d75a0d0eb7d110
   ]
  },
  {
   "cell_type": "code",
<<<<<<< HEAD
   "execution_count": 135,
   "metadata": {
    "collapsed": false
   },
   "outputs": [],
   "source": [
    "# forecast one variable using the others\n",
    "def forecasting_method(dataset,fitmethod,yindex):\n",
    "    # yindex is the column to forecast using the other columns\n",
    "\n",
    "    fitmethods = {'ols':linear_model.LinearRegression(fit_intercept=True, normalize=False, copy_X=True), \\\n",
    "                  'sgd':linear_model.SGDRegressor(fit_intercept=True)}\n",
    "    \n",
    "    if dataset.ndim != 2:\n",
    "        raise Exception('dataset must be 2-dimensional')\n",
    "    nrows,ncols = dataset.shape\n",
    "    \n",
    "    # X is every column except the column specified by yindex\n",
    "    X = dataset[:,[c for c in range(ncols) if c != yindex]]\n",
    "    y = dataset[:,yindex]\n",
    "    fitmethods[fitmethod].fit(X,y)\n",
    "    yhat = fitmethods[fitmethod].predict(X)\n",
    "    return yhat"
   ]
  },
  {
   "cell_type": "code",
   "execution_count": 136,
   "metadata": {
    "collapsed": false
   },
   "outputs": [],
   "source": [
    "def guess_fcs(datan,method='ols'):\n",
    "    # we need to get the sample distribution of each variable\n",
    "    kdes = []\n",
    "    for i in range(nFeatures):\n",
    "        nidx_i = np.isnan(datan[:,i])\n",
    "        kde_i = stats.gaussian_kde(datan[~nidx_i,i])\n",
    "        kdes.append(kde_i)\n",
    "    \n",
    "    # draw randomly from the sample distribution to fill in the missing values\n",
    "    # !! later - dont copy whole dataset !!\n",
    "    datan_seeded = np.copy(datan)\n",
    "    for i in range(nFeatures):\n",
    "        nidx_i = np.isnan(datan[:,i])\n",
    "        sample_i = kdes[i].resample(sum(nidx_i)).T\n",
    "        # stupid reshaping due to broadcasting error\n",
    "        datan_seeded[nidx_i,i] = sample_i.reshape(len(sample_i),)\n",
    "    \n",
    "    # In parallel: forecast one feature using all the others\n",
    "    nFCSIterations = 5\n",
    "    datan_updated = []\n",
    "    rmse = []\n",
    "\n",
    "    for i in range(nFCSIterations): \n",
    "        # start a pool of multiprocessors\n",
    "        # number of processes defaults to number of cores on your machine\n",
    "        pool = mp.Pool(processes=min(4,mp.cpu_count()))\n",
    "\n",
    "        # choose the input dataset to point to\n",
    "        if i==0:\n",
    "            initialData = datan_seeded\n",
    "        else:\n",
    "            initialData = datan_updated[i-1]\n",
    "\n",
    "        # give the same dataset to each processor, but indexing a different column to forecast\n",
    "        forecastedDataList = pool.map(partial(forecasting_method,initialData,method),range(nFeatures))\n",
    "\n",
    "        # do some cleanup (what does join do?)\n",
    "        pool.close()\n",
    "        pool.join()\n",
    "\n",
    "        # update the dataset's missing values with the forecasts\n",
    "        datan_updated.append(np.copy(initialData))\n",
    "        for f in range(nFeatures):\n",
    "            nidx_f = np.isnan(datan[:,f])\n",
    "            datan_updated[i][nidx_f,f] = forecastedDataList[f][nidx_f]\n",
    "\n",
    "    return datan_updated[i]\n"
=======
   "execution_count": 5,
   "metadata": {
    "collapsed": true
   },
   "outputs": [],
   "source": [
    "# apply algorithm to compute NAs\n",
    "# !!! this is your code !!\n",
    "# data_imputed = impute_NAs_using_KNN(datan)"
>>>>>>> 053df9c3c5b6b03b922363c5f4d75a0d0eb7d110
   ]
  },
  {
   "cell_type": "markdown",
   "metadata": {},
   "source": [
<<<<<<< HEAD
    "## K-Nearest-Neighbor Imputation\n"
=======
    "### Compute the RMSE of the guesses"
>>>>>>> 053df9c3c5b6b03b922363c5f4d75a0d0eb7d110
   ]
  },
  {
   "cell_type": "code",
<<<<<<< HEAD
   "execution_count": 137,
   "metadata": {
    "collapsed": true
   },
   "outputs": [],
   "source": [
    "# !! at the moment this is a dummy function which does seeding instead of KNN !!\n",
    "def guess_knn(datan):\n",
    "    # we need to get the sample distribution of each variable\n",
    "    kdes = []\n",
    "    datan_seeded = np.copy(datan)\n",
    "    for i in range(nFeatures):\n",
    "        nidx_i = np.isnan(datan[:,i])\n",
    "        kde_i = stats.gaussian_kde(datan[~nidx_i,i])\n",
    "        kdes.append(kde_i)\n",
    "        \n",
    "        # draw randomly from the sample distribution to fill in the missing values\n",
    "        sample_i = kdes[i].resample(sum(nidx_i)).T\n",
    "        # stupid reshaping due to broadcasting error\n",
    "        datan_seeded[nidx_i,i] = sample_i.reshape(len(sample_i),)\n",
    "    \n",
    "    return datan_seeded\n"
   ]
  },
  {
   "cell_type": "code",
   "execution_count": 138,
   "metadata": {
    "collapsed": false
   },
   "outputs": [],
   "source": [
    "datahat_knn = guess_knn(datan)\n",
    "datahat_fcs_lin = guess_fcs(datan,method='ols')\n",
    "# datahat_fcs_sgd = guess_fcs(datan,method='sgd')\n"
   ]
  },
  {
   "cell_type": "code",
   "execution_count": 155,
=======
   "execution_count": 6,
>>>>>>> 053df9c3c5b6b03b922363c5f4d75a0d0eb7d110
   "metadata": {
    "collapsed": false
   },
   "outputs": [
    {
<<<<<<< HEAD
     "data": {
      "image/png": "iVBORw0KGgoAAAANSUhEUgAAAYkAAAEKCAYAAADn+anLAAAABHNCSVQICAgIfAhkiAAAAAlwSFlz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\nWgmJiIiolZCIiIha/x8V9B5rJXtLvgAAAABJRU5ErkJggg==\n",
      "text/plain": [
       "<matplotlib.figure.Figure at 0x7fcf542acdd0>"
      ]
     },
     "metadata": {},
     "output_type": "display_data"
    }
   ],
   "source": [
    "rmse_knn     = np.sqrt(np.sum((datahat_knn-data)**2))\n",
    "rmse_fcs_lin = np.sqrt(np.sum((datahat_fcs_lin-data)**2))\n",
    "# rmse_fcs_sgd = np.sqrt(np.sum((datahat_fcs_sgd-data)**2))\n",
    "fig, ax = plt.subplots()\n",
    "ax.bar([1,2],[rmse_knn,rmse_fcs_lin],width=0.75,color='b',align='center')\n",
    "# ax.bar([1,2,3],[rmse_knn,rmse_fcs_lin,rmse_fcs_sgd],width=0.75,color='b',align='center')\n",
    "ax.set_title('RMSE by method')\n",
    "ax.set_ylabel('RMSE')\n",
    "ax.set_xticks([1,2])\n",
    "ax.set_xticklabels(('KNN', 'FCS (ols)'))\n",
    "# ax.set_xticklabels(('KNN', 'FCS (ols)','FCS (sgd)'))\n",
    "plt.show()"
   ]
  },
  {
   "cell_type": "code",
   "execution_count": 153,
   "metadata": {
    "collapsed": false
   },
   "outputs": [
    {
     "name": "stdout",
     "output_type": "stream",
     "text": [
      "-9.34216094477e+279\n"
     ]
    }
   ],
=======
     "ename": "NameError",
     "evalue": "name 'data_imputed' is not defined",
     "output_type": "error",
     "traceback": [
      "\u001b[1;31m---------------------------------------------------------------------------\u001b[0m",
      "\u001b[1;31mNameError\u001b[0m                                 Traceback (most recent call last)",
      "\u001b[1;32m<ipython-input-6-0606d9d8add4>\u001b[0m in \u001b[0;36m<module>\u001b[1;34m()\u001b[0m\n\u001b[0;32m      1\u001b[0m \u001b[1;31m# RMSE of difference between imputed and original data\u001b[0m\u001b[1;33m\u001b[0m\u001b[1;33m\u001b[0m\u001b[0m\n\u001b[1;32m----> 2\u001b[1;33m \u001b[0mrmse_guess\u001b[0m \u001b[1;33m=\u001b[0m \u001b[0mnp\u001b[0m\u001b[1;33m.\u001b[0m\u001b[0msqrt\u001b[0m\u001b[1;33m(\u001b[0m\u001b[1;33m(\u001b[0m\u001b[1;33m(\u001b[0m\u001b[0mdata_imputed\u001b[0m\u001b[1;33m[\u001b[0m\u001b[0mnp\u001b[0m\u001b[1;33m.\u001b[0m\u001b[0misnan\u001b[0m\u001b[1;33m(\u001b[0m\u001b[0mdatan\u001b[0m\u001b[1;33m)\u001b[0m\u001b[1;33m]\u001b[0m \u001b[1;33m-\u001b[0m \u001b[0mdata\u001b[0m\u001b[1;33m[\u001b[0m\u001b[0mnp\u001b[0m\u001b[1;33m.\u001b[0m\u001b[0misnan\u001b[0m\u001b[1;33m(\u001b[0m\u001b[0mdatan\u001b[0m\u001b[1;33m)\u001b[0m\u001b[1;33m]\u001b[0m\u001b[1;33m)\u001b[0m\u001b[1;33m**\u001b[0m\u001b[1;36m2\u001b[0m\u001b[1;33m)\u001b[0m\u001b[1;33m.\u001b[0m\u001b[0msum\u001b[0m\u001b[1;33m(\u001b[0m\u001b[1;33m)\u001b[0m\u001b[1;33m)\u001b[0m\u001b[1;33m\u001b[0m\u001b[0m\n\u001b[0m\u001b[0;32m      3\u001b[0m \u001b[0mrmse_guess\u001b[0m \u001b[1;33m=\u001b[0m \u001b[0mnp\u001b[0m\u001b[1;33m.\u001b[0m\u001b[0msqrt\u001b[0m\u001b[1;33m(\u001b[0m\u001b[1;33m(\u001b[0m\u001b[1;33m(\u001b[0m\u001b[0mdata_imputed\u001b[0m\u001b[1;33m[\u001b[0m\u001b[0mnp\u001b[0m\u001b[1;33m.\u001b[0m\u001b[0misnan\u001b[0m\u001b[1;33m(\u001b[0m\u001b[0mdatan\u001b[0m\u001b[1;33m)\u001b[0m\u001b[1;33m]\u001b[0m \u001b[1;33m-\u001b[0m \u001b[0mdata\u001b[0m\u001b[1;33m[\u001b[0m\u001b[0mnp\u001b[0m\u001b[1;33m.\u001b[0m\u001b[0misnan\u001b[0m\u001b[1;33m(\u001b[0m\u001b[0mdatan\u001b[0m\u001b[1;33m)\u001b[0m\u001b[1;33m]\u001b[0m\u001b[1;33m)\u001b[0m\u001b[1;33m**\u001b[0m\u001b[1;36m2\u001b[0m\u001b[1;33m)\u001b[0m\u001b[1;33m.\u001b[0m\u001b[0msum\u001b[0m\u001b[1;33m(\u001b[0m\u001b[1;33m)\u001b[0m\u001b[1;33m)\u001b[0m\u001b[1;33m\u001b[0m\u001b[0m\n\u001b[0;32m      4\u001b[0m \u001b[1;33m\u001b[0m\u001b[0m\n\u001b[0;32m      5\u001b[0m \u001b[1;31m# next: do this many times to get a statistical picture of the method's accuracy\u001b[0m\u001b[1;33m\u001b[0m\u001b[1;33m\u001b[0m\u001b[0m\n",
      "\u001b[1;31mNameError\u001b[0m: name 'data_imputed' is not defined"
     ]
    }
   ],
   "source": [
    "# RMSE of difference between imputed and original data\n",
    "rmse_guess = np.sqrt(((data_imputed[np.isnan(datan)] - data[np.isnan(datan)])**2).sum())\n",
    "rmse_guess = np.sqrt(((data_imputed[np.isnan(datan)] - data[np.isnan(datan)])**2).sum())\n",
    "\n",
    "# next: do this many times to get a statistical picture of the method's accuracy\n"
   ]
  },
  {
   "cell_type": "markdown",
   "metadata": {
    "collapsed": true
   },
>>>>>>> 053df9c3c5b6b03b922363c5f4d75a0d0eb7d110
   "source": []
  },
  {
   "cell_type": "code",
<<<<<<< HEAD
   "execution_count": 16,
   "metadata": {
    "collapsed": false
   },
   "outputs": [
    {
     "data": {
      "image/png": "iVBORw0KGgoAAAANSUhEUgAAAX0AAAEACAYAAABfxaZOAAAABHNCSVQICAgIfAhkiAAAAAlwSFlz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\nJXj4kuWlMwAAAABJRU5ErkJggg==\n",
      "text/plain": [
       "<matplotlib.figure.Figure at 0x7f710d8254d0>"
      ]
     },
     "metadata": {},
     "output_type": "display_data"
    }
   ],
   "source": [
    "aa = np.random.normal(4,60,1000)\n",
    "plt.hist(aa)\n",
    "plt.show()\n",
    "kk = stats.gaussian_kde(aa)"
   ]
  },
  {
   "cell_type": "code",
   "execution_count": 17,
   "metadata": {
    "collapsed": false
   },
   "outputs": [
    {
     "data": {
      "text/plain": [
       "8"
      ]
     },
     "execution_count": 17,
     "metadata": {},
     "output_type": "execute_result"
    }
   ],
   "source": [
    "mp.cpu_count()"
   ]
=======
   "execution_count": 7,
   "metadata": {
    "collapsed": true
   },
   "outputs": [
    {
     "ename": "NameError",
     "evalue": "name 'cube' is not defined",
     "output_type": "error",
     "traceback": [
      "\u001b[1;31m---------------------------------------------------------------------------\u001b[0m",
      "\u001b[1;31mNameError\u001b[0m                                 Traceback (most recent call last)",
      "\u001b[1;32m<ipython-input-7-ab04fa01b644>\u001b[0m in \u001b[0;36m<module>\u001b[1;34m()\u001b[0m\n\u001b[0;32m      3\u001b[0m \u001b[1;33m\u001b[0m\u001b[0m\n\u001b[0;32m      4\u001b[0m \u001b[0mpool\u001b[0m \u001b[1;33m=\u001b[0m \u001b[0mmp\u001b[0m\u001b[1;33m.\u001b[0m\u001b[0mPool\u001b[0m\u001b[1;33m(\u001b[0m\u001b[0mprocesses\u001b[0m\u001b[1;33m=\u001b[0m\u001b[0mN_FEATURES\u001b[0m\u001b[1;33m)\u001b[0m\u001b[1;33m\u001b[0m\u001b[0m\n\u001b[1;32m----> 5\u001b[1;33m \u001b[0mresults\u001b[0m \u001b[1;33m=\u001b[0m \u001b[0mpool\u001b[0m\u001b[1;33m.\u001b[0m\u001b[0mmap\u001b[0m\u001b[1;33m(\u001b[0m\u001b[0mcube\u001b[0m\u001b[1;33m,\u001b[0m \u001b[0mrange\u001b[0m\u001b[1;33m(\u001b[0m\u001b[1;36m1\u001b[0m\u001b[1;33m,\u001b[0m\u001b[1;36m7\u001b[0m\u001b[1;33m)\u001b[0m\u001b[1;33m)\u001b[0m\u001b[1;33m\u001b[0m\u001b[0m\n\u001b[0m\u001b[0;32m      6\u001b[0m \u001b[1;32mprint\u001b[0m\u001b[1;33m(\u001b[0m\u001b[0mresults\u001b[0m\u001b[1;33m)\u001b[0m\u001b[1;33m\u001b[0m\u001b[0m\n",
      "\u001b[1;31mNameError\u001b[0m: name 'cube' is not defined"
     ]
    }
   ],
   "source": []
  },
  {
   "cell_type": "code",
   "execution_count": null,
   "metadata": {
    "collapsed": true
   },
   "outputs": [],
   "source": []
>>>>>>> 053df9c3c5b6b03b922363c5f4d75a0d0eb7d110
  }
 ],
 "metadata": {
  "kernelspec": {
   "display_name": "Python 2",
   "language": "python",
   "name": "python2"
  },
  "language_info": {
   "codemirror_mode": {
    "name": "ipython",
    "version": 2
   },
   "file_extension": ".py",
   "mimetype": "text/x-python",
   "name": "python",
   "nbconvert_exporter": "python",
   "pygments_lexer": "ipython2",
   "version": "2.7.6"
  }
 },
 "nbformat": 4,
 "nbformat_minor": 0
}
