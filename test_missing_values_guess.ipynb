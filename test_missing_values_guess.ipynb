{
 "cells": [
  {
   "cell_type": "markdown",
   "metadata": {},
   "source": [
    "# Test our algorithm for guessing missing values"
   ]
  },
  {
   "cell_type": "code",
   "execution_count": 1,
   "metadata": {
    "collapsed": false
   },
   "outputs": [],
   "source": [
    "#def test_missing_values_guess(N_OBS,N_FEATURES):\n",
    "\"\"\"\n",
    "hello!\n",
    "This is a script that tests our algorithm for imputing missing values (NAs). I\n",
    "generate data from distributions where the Features\n",
    "have some relationship to each other (such as multivariate normal), which makes\n",
    "it worthwhile to do something more intelligent than just using the mean value\n",
    "for each Feature.\n",
    "\n",
    "Steps:\n",
    "1. Create distribution (for multivariate normal, create means & covariances)\n",
    "2. Generate data from that distribution\n",
    "3. Convert a randomly selected subset of the data to NAs\n",
    "4. Apply the algorithm to impute the NAs\n",
    "5. Calculate how close the algorithm got to the true values\n",
    "\"\"\"\n",
    "import numpy as np\n",
    "import random\n",
    "import math\n",
    "from __future__ import division"
   ]
  },
  {
   "cell_type": "code",
   "execution_count": 2,
   "metadata": {
    "collapsed": true
   },
   "outputs": [],
   "source": [
    "# How big a dataset do we want to test on\n",
    "N_OBS = 100;\n",
    "N_FEATURES = 3;"
   ]
  },
  {
   "cell_type": "markdown",
   "metadata": {},
   "source": [
    "## Test case 1: Multivariate normal distribution"
   ]
  },
  {
   "cell_type": "code",
   "execution_count": 3,
   "metadata": {
    "collapsed": false
   },
   "outputs": [
    {
     "name": "stdout",
     "output_type": "stream",
     "text": [
      "[[  3.60926792e+00  -3.58986806e-01  -2.50852197e+00]\n",
      " [ -5.50267312e+00  -3.88657137e+00   4.28605289e+00]\n",
      " [  2.61083069e+00   4.50628680e+00  -5.93036463e+00]\n",
      " [  1.17814541e+01  -5.37141827e-01   6.42202402e+00]\n",
      " [  1.25044894e+00  -1.25424032e+00  -4.37350875e-01]\n",
      " [  7.04339858e+00   1.47752689e-01   2.39328236e+00]\n",
      " [  3.74592304e+00   2.90100656e+00  -5.36980736e+00]\n",
      " [  7.60547875e+00  -2.24639044e-01  -9.18198712e+00]\n",
      " [ -3.85530758e+00   2.95064533e+00   7.52376085e+00]\n",
      " [  6.00863935e+00   6.75862934e+00   8.63318584e+00]\n",
      " [ -2.93278025e+00  -5.87426566e+00  -2.12040179e+00]\n",
      " [  7.87261923e+00  -1.63841554e+00  -1.74265166e+00]\n",
      " [ -5.50590623e+00  -4.26619889e+00   1.97950701e+00]\n",
      " [ -3.30363860e+00  -4.77039461e+00  -1.15644978e+01]\n",
      " [  8.03762245e+00  -7.64257691e-02   9.31540241e-01]\n",
      " [  2.07911839e+01   5.64396160e+00  -3.43745876e+00]\n",
      " [  6.53549494e+00  -4.04606099e-01   2.08676229e+00]\n",
      " [  3.28676109e+00  -7.48490839e-01   9.73360191e-01]\n",
      " [ -4.68257603e+00  -4.62730296e-02   8.12425142e-01]\n",
      " [  6.86987145e+00  -1.18645047e+00   7.78660477e-02]\n",
      " [  1.16652016e+01   4.30508526e-01  -3.70299570e+00]\n",
      " [ -1.00939954e+01  -2.22758372e+00   4.48246478e+00]\n",
      " [  3.37815836e+00  -1.87283132e-01   7.20790414e+00]\n",
      " [  4.22406818e+00   1.09670691e+00   4.72529799e+00]\n",
      " [ -1.19371495e+01  -1.13280412e+00  -2.70460693e-01]\n",
      " [  3.26156021e+00   4.10673114e+00   9.12286968e+00]\n",
      " [ -1.55346730e+01  -2.58751372e+00   7.33336383e+00]\n",
      " [ -1.00300097e+01  -3.70489207e+00   8.43637855e+00]\n",
      " [ -2.16045030e+00   4.27634853e+00   6.63171748e-01]\n",
      " [ -4.60005127e+00   2.27138608e-02   1.60958637e+00]\n",
      " [ -3.17538991e+00   3.65116775e+00  -3.46600159e+00]\n",
      " [ -4.04432239e+00  -5.53933380e-01  -5.15812686e-01]\n",
      " [  4.06886185e+00  -3.20794219e+00  -1.35388735e+01]\n",
      " [  3.88195015e+00   6.63837846e-01  -1.33967474e+00]\n",
      " [ -4.41202309e+00  -2.58405811e+00   8.40843383e+00]\n",
      " [  4.85575943e+00  -3.30552978e+00  -2.39667640e+00]\n",
      " [  1.72221742e+00  -3.28622736e+00  -1.15911619e+01]\n",
      " [ -6.17340636e+00  -2.72940669e+00  -2.35935490e+00]\n",
      " [ -9.33898656e+00   1.86133184e+00   5.11398300e+00]\n",
      " [ -7.46807930e+00  -1.21557560e+00   8.37534264e-01]\n",
      " [  7.64111152e+00   1.28477210e+00   3.18318317e+00]\n",
      " [  6.13881555e-01   1.59830259e+00  -5.83325949e+00]\n",
      " [ -9.57540971e+00  -3.91367743e+00  -4.97780371e+00]\n",
      " [  2.32733883e+00   1.89660832e+00   1.18771428e+01]\n",
      " [ -7.98335601e-01  -1.49101790e+00  -1.59855307e+00]\n",
      " [ -1.61300510e+01  -3.24002372e+00  -1.10722046e+00]\n",
      " [  4.91881719e+00   4.14883327e+00   9.55256355e+00]\n",
      " [ -9.12955246e+00   1.85240753e+00   4.71736480e+00]\n",
      " [  9.22373701e+00  -3.04042022e+00  -5.75064970e+00]\n",
      " [ -1.68098359e+01   1.93996108e+00   2.23457818e+00]\n",
      " [ -1.84313436e+01  -2.89895665e+00  -1.78160449e+00]\n",
      " [  4.07074806e+00  -1.91382528e+00  -7.28612866e+00]\n",
      " [ -1.07488928e+00  -3.30075939e+00  -4.69054080e+00]\n",
      " [  3.14882849e+00  -4.45457554e+00  -1.37923756e+01]\n",
      " [  5.52974272e+00   2.65722703e+00   3.18812986e+00]\n",
      " [ -5.95532889e+00   1.54538959e-02  -6.09777446e+00]\n",
      " [  1.78986659e+00  -2.59129167e+00  -1.14848834e+00]\n",
      " [  8.51816862e-01  -4.88869122e+00  -7.98528479e+00]\n",
      " [  6.82724647e-01  -4.43175819e-01   6.54873411e+00]\n",
      " [ -1.56174918e+01  -1.31163966e+00  -1.68321856e+00]\n",
      " [ -9.74754001e+00   3.47449129e-01  -5.32700401e+00]\n",
      " [  1.93944077e+00  -1.16453882e+00  -3.08295091e+00]\n",
      " [ -6.26551518e+00  -1.19483385e+00   3.62946315e-01]\n",
      " [ -2.13553253e+00  -2.58389494e+00  -9.72356187e+00]\n",
      " [  6.19509032e+00   6.87496105e-01   5.86458679e-01]\n",
      " [  1.04426899e+01   4.84204725e+00   2.33968776e-01]\n",
      " [ -5.49942045e+00   4.10383269e+00  -4.07861022e+00]\n",
      " [  2.31485099e+00  -2.53993522e+00  -1.08856959e+01]\n",
      " [  2.17902484e+01   3.93211575e+00  -1.16905680e+01]\n",
      " [  1.42700236e+01   3.50023949e+00  -3.16273758e+00]\n",
      " [  1.26330538e+01   2.27697696e+00  -5.12285358e+00]\n",
      " [  2.48286559e-01  -4.13781200e-01   2.75567513e+00]\n",
      " [  1.54115956e+01   2.25487400e+00  -1.17555307e+01]\n",
      " [  4.34334028e+00   2.97071972e+00   2.79494124e+00]\n",
      " [ -8.76760223e+00   3.66697727e-01  -1.36856196e-01]\n",
      " [  2.56479446e+00   2.78309706e+00  -1.00982690e+01]\n",
      " [  5.88227172e+00   1.05741797e+00   9.56298145e+00]\n",
      " [  2.07695093e+01   3.15688047e+00  -5.81024651e+00]\n",
      " [ -2.22212318e+00  -5.50851469e+00  -2.58458005e+00]\n",
      " [ -4.08917651e+00  -4.20759841e-01   7.05514040e+00]\n",
      " [  1.60157037e+01   1.20181813e+00   4.40992365e+00]\n",
      " [  2.17272635e+00   6.23111194e-01  -1.16097839e+01]\n",
      " [  1.47803524e+01   1.63411784e+00  -1.33033758e-02]\n",
      " [  3.43665309e+00   7.76945128e-01   8.76369669e+00]\n",
      " [ -4.45929274e+00  -5.81273747e+00  -2.47261307e-01]\n",
      " [  6.63409563e+00  -2.84286576e+00  -4.76758338e+00]\n",
      " [ -1.36311346e+01  -1.16542188e+00   3.42900709e+00]\n",
      " [  1.62346420e+00  -6.26024330e-01   3.54032796e+00]\n",
      " [  8.28116068e+00   4.97782794e-01   5.48642440e+00]\n",
      " [ -3.95538914e+00  -3.39544414e+00  -2.10466009e+00]\n",
      " [  1.54403989e+00   3.15357638e-01  -3.32956803e+00]\n",
      " [ -4.21562917e+00  -1.58028498e+00  -5.21656137e+00]\n",
      " [ -1.67177219e+01  -2.15798520e+00  -7.36124580e+00]\n",
      " [  1.93258572e-01   2.27418946e-01  -4.76881438e+00]\n",
      " [  8.94216283e+00   4.55466788e+00  -6.41979669e+00]\n",
      " [ -1.86819301e+01  -2.13024484e+00  -7.15736387e-01]\n",
      " [  8.97003955e+00   1.07093747e+00  -5.26070646e-01]\n",
      " [ -5.34701149e+00  -3.98902496e+00  -2.15376022e+00]\n",
      " [  3.31440381e+00  -1.92070146e+00  -1.22543954e+01]\n",
      " [  9.04103143e+00   1.19630191e+00   5.03083077e+00]]\n"
     ]
    }
   ],
   "source": [
    "# Case 1: Single Multivariate Normal distribution\n",
    "# randomly generate correlation matrix for the distribution. All correlations must\n",
    "# be between -1 and 1. 'random' uses the uniform distribution.\n",
    "C = np.random.random((N_FEATURES,N_FEATURES))*2. - 1.\n",
    "for i in range(N_FEATURES):\n",
    "    C[i,i] = 1.\n",
    "# randomly generate volatilities. All volatilities must be positive.\n",
    "v = np.random.rand(N_FEATURES,1)*10.\n",
    "# covariance matrix. Convolve volatilites and correlations. (v*v').*(C)\n",
    "V = np.dot(v,v.T)\n",
    "# alternative way:\n",
    "V = np.outer(v,v)\n",
    "cov = V * C\n",
    "# ensure symmetry\n",
    "cov = (cov + cov.T)/2.\n",
    "# randomly generate means\n",
    "mu = np.random.rand(N_FEATURES,)*2. - 1.\n",
    "# randomly generate data\n",
    "data = np.random.multivariate_normal(mu,cov,N_OBS)\n",
    "print data"
   ]
  },
  {
   "cell_type": "code",
   "execution_count": 4,
   "metadata": {
    "collapsed": false
   },
   "outputs": [
    {
     "data": {
      "text/plain": [
       "0.19"
      ]
     },
     "execution_count": 4,
     "metadata": {},
     "output_type": "execute_result"
    }
   ],
   "source": [
    "# choose random fraction of data to convert to NAs\n",
    "NA_FRACTION = 0.19\n",
    "\n",
    "# create copy of data. This copy will have data converted to NAs\n",
    "datan = data\n",
    "# create a random index for the subsample that will be created to NAs\n",
    "random_index = sorted(random.sample(range(datan.size),int(math.floor(datan.size*NA_FRACTION))))\n",
    "# heres a better way to do it! convert to 1D array, convert subset of data\n",
    "# randomly selected by the index to NA, then return to original shape\n",
    "datan.shape = (N_OBS*N_FEATURES,)\n",
    "datan[random_index] = np.nan\n",
    "datan.shape = (N_OBS,N_FEATURES)\n",
    "np.isnan(datan).sum() / np.size(datan)"
   ]
  },
  {
   "cell_type": "markdown",
   "metadata": {},
   "source": [
    "### Guess the missing data"
   ]
  },
  {
   "cell_type": "code",
   "execution_count": 5,
   "metadata": {
    "collapsed": true
   },
   "outputs": [],
   "source": [
    "# apply algorithm to compute NAs\n",
    "# !!! this is your code !!\n",
    "# data_imputed = impute_NAs_using_KNN(datan)"
   ]
  },
  {
   "cell_type": "markdown",
   "metadata": {},
   "source": [
    "### Compute the RMSE of the guesses"
   ]
  },
  {
   "cell_type": "code",
   "execution_count": 6,
   "metadata": {
    "collapsed": false
   },
   "outputs": [
    {
     "ename": "NameError",
     "evalue": "name 'data_imputed' is not defined",
     "output_type": "error",
     "traceback": [
      "\u001b[1;31m---------------------------------------------------------------------------\u001b[0m",
      "\u001b[1;31mNameError\u001b[0m                                 Traceback (most recent call last)",
      "\u001b[1;32m<ipython-input-6-0606d9d8add4>\u001b[0m in \u001b[0;36m<module>\u001b[1;34m()\u001b[0m\n\u001b[0;32m      1\u001b[0m \u001b[1;31m# RMSE of difference between imputed and original data\u001b[0m\u001b[1;33m\u001b[0m\u001b[1;33m\u001b[0m\u001b[0m\n\u001b[1;32m----> 2\u001b[1;33m \u001b[0mrmse_guess\u001b[0m \u001b[1;33m=\u001b[0m \u001b[0mnp\u001b[0m\u001b[1;33m.\u001b[0m\u001b[0msqrt\u001b[0m\u001b[1;33m(\u001b[0m\u001b[1;33m(\u001b[0m\u001b[1;33m(\u001b[0m\u001b[0mdata_imputed\u001b[0m\u001b[1;33m[\u001b[0m\u001b[0mnp\u001b[0m\u001b[1;33m.\u001b[0m\u001b[0misnan\u001b[0m\u001b[1;33m(\u001b[0m\u001b[0mdatan\u001b[0m\u001b[1;33m)\u001b[0m\u001b[1;33m]\u001b[0m \u001b[1;33m-\u001b[0m \u001b[0mdata\u001b[0m\u001b[1;33m[\u001b[0m\u001b[0mnp\u001b[0m\u001b[1;33m.\u001b[0m\u001b[0misnan\u001b[0m\u001b[1;33m(\u001b[0m\u001b[0mdatan\u001b[0m\u001b[1;33m)\u001b[0m\u001b[1;33m]\u001b[0m\u001b[1;33m)\u001b[0m\u001b[1;33m**\u001b[0m\u001b[1;36m2\u001b[0m\u001b[1;33m)\u001b[0m\u001b[1;33m.\u001b[0m\u001b[0msum\u001b[0m\u001b[1;33m(\u001b[0m\u001b[1;33m)\u001b[0m\u001b[1;33m)\u001b[0m\u001b[1;33m\u001b[0m\u001b[0m\n\u001b[0m\u001b[0;32m      3\u001b[0m \u001b[0mrmse_guess\u001b[0m \u001b[1;33m=\u001b[0m \u001b[0mnp\u001b[0m\u001b[1;33m.\u001b[0m\u001b[0msqrt\u001b[0m\u001b[1;33m(\u001b[0m\u001b[1;33m(\u001b[0m\u001b[1;33m(\u001b[0m\u001b[0mdata_imputed\u001b[0m\u001b[1;33m[\u001b[0m\u001b[0mnp\u001b[0m\u001b[1;33m.\u001b[0m\u001b[0misnan\u001b[0m\u001b[1;33m(\u001b[0m\u001b[0mdatan\u001b[0m\u001b[1;33m)\u001b[0m\u001b[1;33m]\u001b[0m \u001b[1;33m-\u001b[0m \u001b[0mdata\u001b[0m\u001b[1;33m[\u001b[0m\u001b[0mnp\u001b[0m\u001b[1;33m.\u001b[0m\u001b[0misnan\u001b[0m\u001b[1;33m(\u001b[0m\u001b[0mdatan\u001b[0m\u001b[1;33m)\u001b[0m\u001b[1;33m]\u001b[0m\u001b[1;33m)\u001b[0m\u001b[1;33m**\u001b[0m\u001b[1;36m2\u001b[0m\u001b[1;33m)\u001b[0m\u001b[1;33m.\u001b[0m\u001b[0msum\u001b[0m\u001b[1;33m(\u001b[0m\u001b[1;33m)\u001b[0m\u001b[1;33m)\u001b[0m\u001b[1;33m\u001b[0m\u001b[0m\n\u001b[0;32m      4\u001b[0m \u001b[1;33m\u001b[0m\u001b[0m\n\u001b[0;32m      5\u001b[0m \u001b[1;31m# next: do this many times to get a statistical picture of the method's accuracy\u001b[0m\u001b[1;33m\u001b[0m\u001b[1;33m\u001b[0m\u001b[0m\n",
      "\u001b[1;31mNameError\u001b[0m: name 'data_imputed' is not defined"
     ]
    }
   ],
   "source": [
    "# RMSE of difference between imputed and original data\n",
    "rmse_guess = np.sqrt(((data_imputed[np.isnan(datan)] - data[np.isnan(datan)])**2).sum())\n",
    "rmse_guess = np.sqrt(((data_imputed[np.isnan(datan)] - data[np.isnan(datan)])**2).sum())\n",
    "\n",
    "# next: do this many times to get a statistical picture of the method's accuracy\n"
   ]
  },
  {
   "cell_type": "markdown",
   "metadata": {
    "collapsed": true
   },
   "source": [
    "# Gibbs Sampler\n",
    "\n",
    "1. Seeding:\n",
    "    * Get the sample distribution of each variable\n",
    "    * Draw randomly from this distribution to fill in the missing values\n",
    "2. In parallel:\n",
    "    * forecast one variable using all the others\n",
    "    --> recombine forecasts and compare similarity of new matrix to old\n",
    "    * forecasting can use any appropriate machine learning technique.\n",
    "      for example, SGD (to replace linear regression), or decision tree.\n",
    "3. Iterate 5-10 times"
   ]
  },
  {
   "cell_type": "code",
   "execution_count": 7,
   "metadata": {
    "collapsed": true
   },
   "outputs": [
    {
     "ename": "NameError",
     "evalue": "name 'cube' is not defined",
     "output_type": "error",
     "traceback": [
      "\u001b[1;31m---------------------------------------------------------------------------\u001b[0m",
      "\u001b[1;31mNameError\u001b[0m                                 Traceback (most recent call last)",
      "\u001b[1;32m<ipython-input-7-ab04fa01b644>\u001b[0m in \u001b[0;36m<module>\u001b[1;34m()\u001b[0m\n\u001b[0;32m      3\u001b[0m \u001b[1;33m\u001b[0m\u001b[0m\n\u001b[0;32m      4\u001b[0m \u001b[0mpool\u001b[0m \u001b[1;33m=\u001b[0m \u001b[0mmp\u001b[0m\u001b[1;33m.\u001b[0m\u001b[0mPool\u001b[0m\u001b[1;33m(\u001b[0m\u001b[0mprocesses\u001b[0m\u001b[1;33m=\u001b[0m\u001b[0mN_FEATURES\u001b[0m\u001b[1;33m)\u001b[0m\u001b[1;33m\u001b[0m\u001b[0m\n\u001b[1;32m----> 5\u001b[1;33m \u001b[0mresults\u001b[0m \u001b[1;33m=\u001b[0m \u001b[0mpool\u001b[0m\u001b[1;33m.\u001b[0m\u001b[0mmap\u001b[0m\u001b[1;33m(\u001b[0m\u001b[0mcube\u001b[0m\u001b[1;33m,\u001b[0m \u001b[0mrange\u001b[0m\u001b[1;33m(\u001b[0m\u001b[1;36m1\u001b[0m\u001b[1;33m,\u001b[0m\u001b[1;36m7\u001b[0m\u001b[1;33m)\u001b[0m\u001b[1;33m)\u001b[0m\u001b[1;33m\u001b[0m\u001b[0m\n\u001b[0m\u001b[0;32m      6\u001b[0m \u001b[1;32mprint\u001b[0m\u001b[1;33m(\u001b[0m\u001b[0mresults\u001b[0m\u001b[1;33m)\u001b[0m\u001b[1;33m\u001b[0m\u001b[0m\n",
      "\u001b[1;31mNameError\u001b[0m: name 'cube' is not defined"
     ]
    }
   ],
   "source": [
    "from scipy import stats\n",
    "import multiprocessing as mp\n",
    "\n",
    "pool = mp.Pool(processes=N_FEATURES)\n",
    "results = pool.map(cube, range(1,7))\n",
    "print(results)"
   ]
  }
 ],
 "metadata": {
  "kernelspec": {
   "display_name": "Python 2",
   "language": "python",
   "name": "python2"
  },
  "language_info": {
   "codemirror_mode": {
    "name": "ipython",
    "version": 2
   },
   "file_extension": ".py",
   "mimetype": "text/x-python",
   "name": "python",
   "nbconvert_exporter": "python",
   "pygments_lexer": "ipython2",
   "version": "2.7.6"
  }
 },
 "nbformat": 4,
 "nbformat_minor": 0
}